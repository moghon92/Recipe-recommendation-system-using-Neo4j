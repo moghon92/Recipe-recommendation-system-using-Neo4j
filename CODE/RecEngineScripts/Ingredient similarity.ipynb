{
 "cells": [
  {
   "cell_type": "code",
   "execution_count": 1,
   "metadata": {},
   "outputs": [],
   "source": [
    "import pandas as pd\n",
    "import numpy as np\n",
    "import spacy\n",
    "from sklearn.metrics.pairwise import cosine_similarity\n",
    "import warnings\n",
    "warnings.filterwarnings('ignore')"
   ]
  },
  {
   "cell_type": "markdown",
   "metadata": {},
   "source": [
    "# INGR SIM"
   ]
  },
  {
   "cell_type": "code",
   "execution_count": 2,
   "metadata": {},
   "outputs": [],
   "source": [
    "# load spacy english-long model\n",
    "nlp = spacy.load('en_core_web_lg')"
   ]
  },
  {
   "cell_type": "code",
   "execution_count": 3,
   "metadata": {},
   "outputs": [],
   "source": [
    "# read the ingr map\n",
    "ingr_map = pd.read_pickle('ingr_map.pkl')"
   ]
  },
  {
   "cell_type": "code",
   "execution_count": 4,
   "metadata": {},
   "outputs": [],
   "source": [
    "# create 2 lists\n",
    "## ingr id list and ingr_name list\n",
    "\n",
    "ingrs_df = ingr_map[['replaced','id']].drop_duplicates()\n",
    "\n",
    "ingrs_id = ingrs_df['id'].to_list()\n",
    "ingrs_name = ingrs_df['replaced'].to_list()"
   ]
  },
  {
   "cell_type": "code",
   "execution_count": 7,
   "metadata": {},
   "outputs": [
    {
     "name": "stdout",
     "output_type": "stream",
     "text": [
      "Wall time: 50.1 s\n"
     ]
    }
   ],
   "source": [
    "%%time\n",
    "# convert each ingredient into an embedding (a 1x300 vector) using scipy word2vec\n",
    "# stack all vectors to create a matrix (Nx300) where N=num ingredients\n",
    "\n",
    "out = nlp(ingrs_name[0]).vector\n",
    "\n",
    "for ing in ingrs_name[1:]:\n",
    "    ing_vector = nlp(ing).vector\n",
    "    out = np.vstack((out,ing_vector))"
   ]
  },
  {
   "cell_type": "code",
   "execution_count": 8,
   "metadata": {},
   "outputs": [
    {
     "data": {
      "text/plain": [
       "(8023, 300)"
      ]
     },
     "execution_count": 8,
     "metadata": {},
     "output_type": "execute_result"
    }
   ],
   "source": [
    "# print shape of resulting matrix\n",
    "out.shape"
   ]
  },
  {
   "cell_type": "code",
   "execution_count": 9,
   "metadata": {},
   "outputs": [],
   "source": [
    "# compute pairewise cos similarity using sklearn\n",
    "sim = cosine_similarity(out)\n",
    "np.fill_diagonal(sim,0) # fill diagonal with zeros"
   ]
  },
  {
   "cell_type": "code",
   "execution_count": 10,
   "metadata": {},
   "outputs": [
    {
     "data": {
      "text/plain": [
       "array([[0.        , 0.45709878, 0.41759226, ..., 0.        , 0.315817  ,\n",
       "        0.        ],\n",
       "       [0.45709878, 0.        , 0.77123934, ..., 0.        , 0.13233519,\n",
       "        0.        ],\n",
       "       [0.41759226, 0.77123934, 0.        , ..., 0.        , 0.12659758,\n",
       "        0.        ],\n",
       "       ...,\n",
       "       [0.        , 0.        , 0.        , ..., 0.        , 0.        ,\n",
       "        0.        ],\n",
       "       [0.315817  , 0.13233519, 0.12659758, ..., 0.        , 0.        ,\n",
       "        0.        ],\n",
       "       [0.        , 0.        , 0.        , ..., 0.        , 0.        ,\n",
       "        0.        ]], dtype=float32)"
      ]
     },
     "execution_count": 10,
     "metadata": {},
     "output_type": "execute_result"
    }
   ],
   "source": [
    "# sim matrix\n",
    "sim"
   ]
  },
  {
   "cell_type": "code",
   "execution_count": 11,
   "metadata": {},
   "outputs": [
    {
     "data": {
      "text/plain": [
       "(8023, 8023)"
      ]
     },
     "execution_count": 11,
     "metadata": {},
     "output_type": "execute_result"
    }
   ],
   "source": [
    "# print shape of resulting pairewise similarity matrix\n",
    "sim.shape"
   ]
  },
  {
   "cell_type": "code",
   "execution_count": 12,
   "metadata": {},
   "outputs": [],
   "source": [
    "# create a dataframe with 4 cols\n",
    "#- ingr_id\n",
    "#- ingr_name\n",
    "#- sim_ingr_id\n",
    "#- sim_ingr_name\n",
    "#- similarity\n",
    "\n",
    "ing_id = []\n",
    "sim_ing_id = []\n",
    "ing_name = []\n",
    "sim_ing_name = []\n",
    "sim_score = []\n",
    "\n",
    "for i in range(sim.shape[0]):\n",
    "     \n",
    "    top3_sim_ids   = [ingrs_id[i]   for i in np.argsort(-sim[i])[:3]]\n",
    "    top3_sim_names = [ingrs_name[i] for i in np.argsort(-sim[i])[:3]]\n",
    "    sim_scores     = [i for i in -np.sort(-sim[i])[:3]]\n",
    "    \n",
    "    if sum(sim_scores) > 0:\n",
    "        for j in range(3):\n",
    "            ing_id.append(ingrs_id[i])\n",
    "            ing_name.append(ingrs_name[i])\n",
    "            \n",
    "            sim_ing_id.append(top3_sim_ids[j])\n",
    "            sim_ing_name.append(top3_sim_names[j])\n",
    "            sim_score.append(sim_scores[j])\n",
    "    \n",
    "data_tuples2 = list(zip(ing_id,ing_name,sim_ing_id,sim_ing_name,sim_score))\n",
    "ingr_sim_df = pd.DataFrame(data_tuples2, columns=['ing_id','ing_name','sim_ing_id','sim_ing_name','similarity'])"
   ]
  },
  {
   "cell_type": "code",
   "execution_count": 13,
   "metadata": {},
   "outputs": [
    {
     "data": {
      "text/html": [
       "<div>\n",
       "<style scoped>\n",
       "    .dataframe tbody tr th:only-of-type {\n",
       "        vertical-align: middle;\n",
       "    }\n",
       "\n",
       "    .dataframe tbody tr th {\n",
       "        vertical-align: top;\n",
       "    }\n",
       "\n",
       "    .dataframe thead th {\n",
       "        text-align: right;\n",
       "    }\n",
       "</style>\n",
       "<table border=\"1\" class=\"dataframe\">\n",
       "  <thead>\n",
       "    <tr style=\"text-align: right;\">\n",
       "      <th></th>\n",
       "      <th>ing_id</th>\n",
       "      <th>ing_name</th>\n",
       "      <th>sim_ing_id</th>\n",
       "      <th>sim_ing_name</th>\n",
       "      <th>similarity</th>\n",
       "    </tr>\n",
       "  </thead>\n",
       "  <tbody>\n",
       "    <tr>\n",
       "      <th>0</th>\n",
       "      <td>4308</td>\n",
       "      <td>lettuce</td>\n",
       "      <td>6161</td>\n",
       "      <td>romaine leaf</td>\n",
       "      <td>0.826433</td>\n",
       "    </tr>\n",
       "    <tr>\n",
       "      <th>1</th>\n",
       "      <td>4308</td>\n",
       "      <td>lettuce</td>\n",
       "      <td>6754</td>\n",
       "      <td>spinach</td>\n",
       "      <td>0.801966</td>\n",
       "    </tr>\n",
       "    <tr>\n",
       "      <th>2</th>\n",
       "      <td>4308</td>\n",
       "      <td>lettuce</td>\n",
       "      <td>6763</td>\n",
       "      <td>spinach pastum</td>\n",
       "      <td>0.801966</td>\n",
       "    </tr>\n",
       "    <tr>\n",
       "      <th>3</th>\n",
       "      <td>2744</td>\n",
       "      <td>french vanilla pudding and pie filling mix</td>\n",
       "      <td>7478</td>\n",
       "      <td>vanilla instant pudding and pie filling mix</td>\n",
       "      <td>0.965304</td>\n",
       "    </tr>\n",
       "    <tr>\n",
       "      <th>4</th>\n",
       "      <td>2744</td>\n",
       "      <td>french vanilla pudding and pie filling mix</td>\n",
       "      <td>348</td>\n",
       "      <td>banana cream pudding and pie filling mix</td>\n",
       "      <td>0.958920</td>\n",
       "    </tr>\n",
       "    <tr>\n",
       "      <th>...</th>\n",
       "      <td>...</td>\n",
       "      <td>...</td>\n",
       "      <td>...</td>\n",
       "      <td>...</td>\n",
       "      <td>...</td>\n",
       "    </tr>\n",
       "    <tr>\n",
       "      <th>23608</th>\n",
       "      <td>3318</td>\n",
       "      <td>goose</td>\n",
       "      <td>2468</td>\n",
       "      <td>duck</td>\n",
       "      <td>0.700905</td>\n",
       "    </tr>\n",
       "    <tr>\n",
       "      <th>23609</th>\n",
       "      <td>3318</td>\n",
       "      <td>goose</td>\n",
       "      <td>7920</td>\n",
       "      <td>wild duck</td>\n",
       "      <td>0.639045</td>\n",
       "    </tr>\n",
       "    <tr>\n",
       "      <th>23610</th>\n",
       "      <td>750</td>\n",
       "      <td>brinjal</td>\n",
       "      <td>254</td>\n",
       "      <td>aubergine</td>\n",
       "      <td>0.578521</td>\n",
       "    </tr>\n",
       "    <tr>\n",
       "      <th>23611</th>\n",
       "      <td>750</td>\n",
       "      <td>brinjal</td>\n",
       "      <td>4994</td>\n",
       "      <td>okra</td>\n",
       "      <td>0.569084</td>\n",
       "    </tr>\n",
       "    <tr>\n",
       "      <th>23612</th>\n",
       "      <td>750</td>\n",
       "      <td>brinjal</td>\n",
       "      <td>2516</td>\n",
       "      <td>eggplant</td>\n",
       "      <td>0.557056</td>\n",
       "    </tr>\n",
       "  </tbody>\n",
       "</table>\n",
       "<p>23613 rows × 5 columns</p>\n",
       "</div>"
      ],
      "text/plain": [
       "       ing_id                                    ing_name  sim_ing_id  \\\n",
       "0        4308                                     lettuce        6161   \n",
       "1        4308                                     lettuce        6754   \n",
       "2        4308                                     lettuce        6763   \n",
       "3        2744  french vanilla pudding and pie filling mix        7478   \n",
       "4        2744  french vanilla pudding and pie filling mix         348   \n",
       "...       ...                                         ...         ...   \n",
       "23608    3318                                       goose        2468   \n",
       "23609    3318                                       goose        7920   \n",
       "23610     750                                     brinjal         254   \n",
       "23611     750                                     brinjal        4994   \n",
       "23612     750                                     brinjal        2516   \n",
       "\n",
       "                                      sim_ing_name  similarity  \n",
       "0                                     romaine leaf    0.826433  \n",
       "1                                          spinach    0.801966  \n",
       "2                                   spinach pastum    0.801966  \n",
       "3      vanilla instant pudding and pie filling mix    0.965304  \n",
       "4         banana cream pudding and pie filling mix    0.958920  \n",
       "...                                            ...         ...  \n",
       "23608                                         duck    0.700905  \n",
       "23609                                    wild duck    0.639045  \n",
       "23610                                    aubergine    0.578521  \n",
       "23611                                         okra    0.569084  \n",
       "23612                                     eggplant    0.557056  \n",
       "\n",
       "[23613 rows x 5 columns]"
      ]
     },
     "execution_count": 13,
     "metadata": {},
     "output_type": "execute_result"
    }
   ],
   "source": [
    "ingr_sim_df"
   ]
  },
  {
   "cell_type": "code",
   "execution_count": 195,
   "metadata": {},
   "outputs": [],
   "source": [
    "#ingr_sim_df.to_csv('ingr_sim_v2.csv')"
   ]
  },
  {
   "cell_type": "markdown",
   "metadata": {},
   "source": [
    "# END"
   ]
  }
 ],
 "metadata": {
  "kernelspec": {
   "display_name": "Python 3",
   "language": "python",
   "name": "python3"
  },
  "language_info": {
   "codemirror_mode": {
    "name": "ipython",
    "version": 3
   },
   "file_extension": ".py",
   "mimetype": "text/x-python",
   "name": "python",
   "nbconvert_exporter": "python",
   "pygments_lexer": "ipython3",
   "version": "3.7.3"
  }
 },
 "nbformat": 4,
 "nbformat_minor": 2
}
